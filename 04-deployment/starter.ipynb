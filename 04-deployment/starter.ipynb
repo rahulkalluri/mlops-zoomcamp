{
 "cells": [
  {
   "cell_type": "code",
   "id": "2c51efaa",
   "metadata": {
    "ExecuteTime": {
     "end_time": "2024-06-20T20:02:12.658520Z",
     "start_time": "2024-06-20T20:02:11.895542Z"
    }
   },
   "source": [
    "!pip freeze | grep scikit-learn"
   ],
   "outputs": [
    {
     "name": "stdout",
     "output_type": "stream",
     "text": [
      "scikit-learn==1.4.2\r\n"
     ]
    }
   ],
   "execution_count": 1
  },
  {
   "cell_type": "code",
   "id": "4acf73a0-51b5-4663-9bb8-8eb947863e17",
   "metadata": {
    "ExecuteTime": {
     "end_time": "2024-06-20T20:02:12.831406Z",
     "start_time": "2024-06-20T20:02:12.660828Z"
    }
   },
   "source": [
    "!python -V"
   ],
   "outputs": [
    {
     "name": "stdout",
     "output_type": "stream",
     "text": [
      "Python 3.10.14\r\n"
     ]
    }
   ],
   "execution_count": 2
  },
  {
   "cell_type": "code",
   "id": "0ef880a0",
   "metadata": {
    "ExecuteTime": {
     "end_time": "2024-06-20T20:02:13.711796Z",
     "start_time": "2024-06-20T20:02:12.832710Z"
    }
   },
   "source": [
    "import pickle\n",
    "import pandas as pd"
   ],
   "outputs": [],
   "execution_count": 3
  },
  {
   "cell_type": "code",
   "id": "7836ccfd",
   "metadata": {
    "ExecuteTime": {
     "end_time": "2024-06-20T20:24:08.736531Z",
     "start_time": "2024-06-20T20:24:08.723573Z"
    }
   },
   "source": [
    "with open('model.bin', 'rb') as f_in:\n",
    "    dv, model = pickle.load(f_in)"
   ],
   "outputs": [
    {
     "name": "stderr",
     "output_type": "stream",
     "text": [
      "/Users/rahulkalluri/Projects/mlops-zoomcamp/venv/lib/python3.10/site-packages/sklearn/base.py:376: InconsistentVersionWarning: Trying to unpickle estimator DictVectorizer from version 1.5.0 when using version 1.4.2. This might lead to breaking code or invalid results. Use at your own risk. For more info please refer to:\n",
      "https://scikit-learn.org/stable/model_persistence.html#security-maintainability-limitations\n",
      "  warnings.warn(\n",
      "/Users/rahulkalluri/Projects/mlops-zoomcamp/venv/lib/python3.10/site-packages/sklearn/base.py:376: InconsistentVersionWarning: Trying to unpickle estimator LinearRegression from version 1.5.0 when using version 1.4.2. This might lead to breaking code or invalid results. Use at your own risk. For more info please refer to:\n",
      "https://scikit-learn.org/stable/model_persistence.html#security-maintainability-limitations\n",
      "  warnings.warn(\n"
     ]
    }
   ],
   "execution_count": 24
  },
  {
   "cell_type": "code",
   "id": "41c08294",
   "metadata": {
    "ExecuteTime": {
     "end_time": "2024-06-20T20:24:13.789095Z",
     "start_time": "2024-06-20T20:24:13.782632Z"
    }
   },
   "source": [
    "categorical = ['PULocationID', 'DOLocationID']\n",
    "\n",
    "def read_data(filename):\n",
    "    df = pd.read_parquet(filename)\n",
    "    \n",
    "    df['duration'] = df.tpep_dropoff_datetime - df.tpep_pickup_datetime\n",
    "    df['duration'] = df.duration.dt.total_seconds() / 60\n",
    "\n",
    "    df = df[(df.duration >= 1) & (df.duration <= 60)].copy()\n",
    "\n",
    "    df[categorical] = df[categorical].fillna(-1).astype('int').astype('str')\n",
    "    \n",
    "    return df"
   ],
   "outputs": [],
   "execution_count": 25
  },
  {
   "cell_type": "code",
   "id": "4854399a",
   "metadata": {
    "ExecuteTime": {
     "end_time": "2024-06-20T20:26:17.097594Z",
     "start_time": "2024-06-20T20:26:10.786269Z"
    }
   },
   "source": "df = read_data('https://d37ci6vzurychx.cloudfront.net/trip-data/yellow_tripdata_2023-05.parquet')",
   "outputs": [],
   "execution_count": 30
  },
  {
   "cell_type": "code",
   "id": "669fda0a",
   "metadata": {
    "ExecuteTime": {
     "end_time": "2024-06-20T20:26:29.973369Z",
     "start_time": "2024-06-20T20:26:17.100742Z"
    }
   },
   "source": [
    "dicts = df[categorical].to_dict(orient='records')\n",
    "X_val = dv.transform(dicts)\n",
    "y_pred = model.predict(X_val)"
   ],
   "outputs": [],
   "execution_count": 31
  },
  {
   "metadata": {},
   "cell_type": "markdown",
   "source": "# Q1. Notebook",
   "id": "6735e07b45882d68"
  },
  {
   "metadata": {},
   "cell_type": "markdown",
   "source": "What's the standard deviation of the predicted duration for this dataset?",
   "id": "dd81ece48aafe644"
  },
  {
   "metadata": {
    "ExecuteTime": {
     "end_time": "2024-06-17T20:25:57.397433Z",
     "start_time": "2024-06-17T20:25:57.362194Z"
    }
   },
   "cell_type": "code",
   "source": "y_pred.std()",
   "id": "ad419dd01c9e9176",
   "outputs": [
    {
     "data": {
      "text/plain": [
       "6.247488852238703"
      ]
     },
     "execution_count": 15,
     "metadata": {},
     "output_type": "execute_result"
    }
   ],
   "execution_count": 15
  },
  {
   "metadata": {},
   "cell_type": "markdown",
   "source": "# Q2. Preparing the output",
   "id": "38f608cce8a0968d"
  },
  {
   "metadata": {},
   "cell_type": "markdown",
   "source": "What's the size of the output file?",
   "id": "25c2c7fa5ba63377"
  },
  {
   "metadata": {
    "ExecuteTime": {
     "end_time": "2024-06-20T20:08:00.340168Z",
     "start_time": "2024-06-20T20:08:00.329557Z"
    }
   },
   "cell_type": "code",
   "source": "len(y_pred)",
   "id": "365e5d8a9c8b969e",
   "outputs": [
    {
     "data": {
      "text/plain": [
       "3316216"
      ]
     },
     "execution_count": 15,
     "metadata": {},
     "output_type": "execute_result"
    }
   ],
   "execution_count": 15
  },
  {
   "metadata": {
    "ExecuteTime": {
     "end_time": "2024-06-20T20:08:16.430054Z",
     "start_time": "2024-06-20T20:08:16.424762Z"
    }
   },
   "cell_type": "code",
   "source": "df.shape",
   "id": "d5f44188807f77df",
   "outputs": [
    {
     "data": {
      "text/plain": [
       "(3316216, 21)"
      ]
     },
     "execution_count": 18,
     "metadata": {},
     "output_type": "execute_result"
    }
   ],
   "execution_count": 18
  },
  {
   "metadata": {
    "ExecuteTime": {
     "end_time": "2024-06-20T20:06:32.195321Z",
     "start_time": "2024-06-20T20:06:31.084820Z"
    }
   },
   "cell_type": "code",
   "source": [
    "year = 2023\n",
    "month = 3\n",
    "df['ride_id'] = f'{year:04d}/{month:02d}_' + df.index.astype('str')"
   ],
   "id": "5b52d666431c65a3",
   "outputs": [],
   "execution_count": 11
  },
  {
   "metadata": {
    "ExecuteTime": {
     "end_time": "2024-06-20T20:10:19.525620Z",
     "start_time": "2024-06-20T20:10:17.928589Z"
    }
   },
   "cell_type": "code",
   "source": "df2 = df.assign(Predictions= y_pred)\n",
   "id": "f3908ed0f5d80f44",
   "outputs": [
    {
     "data": {
      "text/plain": [
       "(3316216, 22)"
      ]
     },
     "execution_count": 19,
     "metadata": {},
     "output_type": "execute_result"
    }
   ],
   "execution_count": 19
  },
  {
   "metadata": {
    "ExecuteTime": {
     "end_time": "2024-06-20T20:11:50.662058Z",
     "start_time": "2024-06-20T20:11:50.504437Z"
    }
   },
   "cell_type": "code",
   "source": "df_result = df2[['ride_id', 'Predictions']]",
   "id": "46f1036c033750eb",
   "outputs": [],
   "execution_count": 22
  },
  {
   "metadata": {
    "ExecuteTime": {
     "end_time": "2024-06-20T20:11:54.752863Z",
     "start_time": "2024-06-20T20:11:54.369775Z"
    }
   },
   "cell_type": "code",
   "source": [
    "df_result.to_parquet(\n",
    "    '/Users/rahulkalluri/Projects/mlops-zoomcamp/04-deployment/df_result.parquet',\n",
    "    engine='pyarrow',\n",
    "    compression=None,\n",
    "    index=False\n",
    ")"
   ],
   "id": "4e736421ab49fefb",
   "outputs": [],
   "execution_count": 23
  },
  {
   "metadata": {},
   "cell_type": "markdown",
   "source": "# Q3. Creating the scoring script",
   "id": "5e881e766f6800fa"
  },
  {
   "metadata": {
    "ExecuteTime": {
     "end_time": "2024-06-20T20:26:34.468717Z",
     "start_time": "2024-06-20T20:26:34.454947Z"
    }
   },
   "cell_type": "code",
   "source": [
    "import numpy as np\n",
    "np.average(y_pred)"
   ],
   "id": "a289d575930b3c4c",
   "outputs": [
    {
     "data": {
      "text/plain": [
       "14.242595513316317"
      ]
     },
     "execution_count": 32,
     "metadata": {},
     "output_type": "execute_result"
    }
   ],
   "execution_count": 32
  },
  {
   "metadata": {},
   "cell_type": "code",
   "outputs": [],
   "execution_count": null,
   "source": "",
   "id": "996e46a3a79fd2cb"
  }
 ],
 "metadata": {
  "kernelspec": {
   "display_name": "Python 3 (ipykernel)",
   "language": "python",
   "name": "python3"
  },
  "language_info": {
   "codemirror_mode": {
    "name": "ipython",
    "version": 3
   },
   "file_extension": ".py",
   "mimetype": "text/x-python",
   "name": "python",
   "nbconvert_exporter": "python",
   "pygments_lexer": "ipython3",
   "version": "3.10.13"
  }
 },
 "nbformat": 4,
 "nbformat_minor": 5
}
